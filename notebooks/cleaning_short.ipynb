{
 "cells": [
  {
   "cell_type": "code",
   "execution_count": 8,
   "id": "a00ab4fe-03de-468d-8a1c-4ca5b68bdcd7",
   "metadata": {},
   "outputs": [],
   "source": [
    "import pandas as pd  \n",
    "import numpy as np  \n",
    "from sklearn.preprocessing import LabelEncoder, OneHotEncoder, MinMaxScaler, StandardScaler  "
   ]
  },
  {
   "cell_type": "code",
   "execution_count": 9,
   "id": "18fc07c0-8ab7-4315-b1c0-1f7ba4ca7fce",
   "metadata": {},
   "outputs": [],
   "source": [
    "data = {  \n",
    "    'Age': [25, 30, np.nan, 40, 35],  \n",
    "    'Salary': [50000, 60000, 55000, np.nan, 65000],  \n",
    "    'Department': ['HR', 'IT', 'Finance', 'IT', np.nan],  \n",
    "    'Purchased': ['Yes', 'No', 'Yes', 'No', 'Yes']  \n",
    "}"
   ]
  },
  {
   "cell_type": "code",
   "execution_count": 10,
   "id": "11690e5f-b2ac-4a84-ae23-0bc39552c74c",
   "metadata": {},
   "outputs": [
    {
     "name": "stdout",
     "output_type": "stream",
     "text": [
      "Original DataFrame:\n",
      "    Age   Salary Department Purchased\n",
      "0  25.0  50000.0         HR       Yes\n",
      "1  30.0  60000.0         IT        No\n",
      "2   NaN  55000.0    Finance       Yes\n",
      "3  40.0      NaN         IT        No\n",
      "4  35.0  65000.0        NaN       Yes\n"
     ]
    }
   ],
   "source": [
    "df = pd.DataFrame(data)\n",
    "print(\"Original DataFrame:\")\n",
    "print(df)"
   ]
  },
  {
   "cell_type": "code",
   "execution_count": 11,
   "id": "3fd544b5-b0ac-4537-a320-ff2471892813",
   "metadata": {},
   "outputs": [
    {
     "name": "stdout",
     "output_type": "stream",
     "text": [
      "\n",
      "After Handling Missing Values:\n",
      "    Age   Salary Department Purchased\n",
      "0  25.0  50000.0         HR       Yes\n",
      "1  30.0  60000.0         IT        No\n",
      "2  32.5  55000.0    Finance       Yes\n",
      "3  40.0  57500.0         IT        No\n",
      "4  35.0  65000.0         IT       Yes\n"
     ]
    }
   ],
   "source": [
    "# Handle Missing Values\n",
    "if 'Age' in df.columns:\n",
    "    df['Age'] = df['Age'].fillna(df['Age'].mean())\n",
    "\n",
    "if 'Salary' in df.columns:\n",
    "    df['Salary'] = df['Salary'].fillna(df['Salary'].mean())\n",
    "\n",
    "if 'Department' in df.columns:\n",
    "    df['Department'] = df['Department'].fillna(df['Department'].mode()[0])\n",
    "\n",
    "print(\"\\nAfter Handling Missing Values:\")\n",
    "print(df)"
   ]
  },
  {
   "cell_type": "code",
   "execution_count": 12,
   "id": "be526750-c5b2-4610-ace9-b8f792eb35b5",
   "metadata": {},
   "outputs": [
    {
     "name": "stdout",
     "output_type": "stream",
     "text": [
      "\n",
      "After Encoding:\n",
      "    Age   Salary  Purchased  Department_HR  Department_IT\n",
      "0  25.0  50000.0          1           True          False\n",
      "1  30.0  60000.0          0          False           True\n",
      "2  32.5  55000.0          1          False          False\n",
      "3  40.0  57500.0          0          False           True\n",
      "4  35.0  65000.0          1          False           True\n"
     ]
    }
   ],
   "source": [
    "# Encoding\n",
    "labelencoder = LabelEncoder()\n",
    "df['Purchased'] = labelencoder.fit_transform(df['Purchased'])  # Yes=1, No=0\n",
    "\n",
    "df = pd.get_dummies(df, columns=['Department'], drop_first=True)\n",
    "\n",
    "print(\"\\nAfter Encoding:\")\n",
    "print(df)"
   ]
  },
  {
   "cell_type": "code",
   "execution_count": 13,
   "id": "5da90b12-3ff2-414f-a98a-1de15015499f",
   "metadata": {},
   "outputs": [
    {
     "name": "stdout",
     "output_type": "stream",
     "text": [
      "\n",
      "After Normalization:\n",
      "        Age    Salary  Purchased  Department_HR  Department_IT\n",
      "0  0.000000  0.000000          1           True          False\n",
      "1  0.333333  0.666667          0          False           True\n",
      "2  0.500000  0.333333          1          False          False\n",
      "3  1.000000  0.500000          0          False           True\n",
      "4  0.666667  1.000000          1          False           True\n"
     ]
    }
   ],
   "source": [
    "# Normalization\n",
    "scaler = MinMaxScaler()\n",
    "df[['Age', 'Salary']] = scaler.fit_transform(df[['Age', 'Salary']])\n",
    "\n",
    "print(\"\\nAfter Normalization:\")\n",
    "print(df)\n"
   ]
  },
  {
   "cell_type": "code",
   "execution_count": null,
   "id": "360a3454-579d-4a1e-aeb7-87a1ec247131",
   "metadata": {},
   "outputs": [],
   "source": []
  },
  {
   "cell_type": "code",
   "execution_count": null,
   "id": "a6fd0d8f-a97e-4f9b-9c7a-243b060c4872",
   "metadata": {},
   "outputs": [],
   "source": []
  },
  {
   "cell_type": "code",
   "execution_count": null,
   "id": "a26a7a9e-7345-4014-ad5e-40dd120321dc",
   "metadata": {},
   "outputs": [],
   "source": []
  }
 ],
 "metadata": {
  "kernelspec": {
   "display_name": "Python 3 (ipykernel)",
   "language": "python",
   "name": "python3"
  },
  "language_info": {
   "codemirror_mode": {
    "name": "ipython",
    "version": 3
   },
   "file_extension": ".py",
   "mimetype": "text/x-python",
   "name": "python",
   "nbconvert_exporter": "python",
   "pygments_lexer": "ipython3",
   "version": "3.12.7"
  }
 },
 "nbformat": 4,
 "nbformat_minor": 5
}
