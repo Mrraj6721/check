{
 "cells": [
  {
   "cell_type": "code",
   "execution_count": 1,
   "id": "774d9e14-f237-4eb3-9b77-6618f73b5f51",
   "metadata": {},
   "outputs": [],
   "source": [
    "#prg 2\n",
    "import pandas as pd \n",
    "df = pd.read_csv(\"AIML/MBA Salary.csv\") \n",
    "df.head(3) \n",
    "\n",
    "import statsmodels.api as sm \n",
    "X = sm.add_constant(df['Percentage in Grade 10']) \n",
    "X.head(5)\n",
    "\n",
    "Y =df['Salary'] \n",
    "Y.head() \n",
    "\n",
    "from sklearn.model_selection import train_test_split \n",
    "train_X, test_X, train_y, test_y = train_test_split(X,Y,train_size = 0.8, random_state = 100)\n",
    "\n",
    "mba_salary_lm = sm.OLS(train_y, train_X).fit()\n",
    "\n",
    "print(mba_salary_lm.params) \n",
    "print(mba_salary_lm.summary2()) \n",
    "\n",
    "import matplotlib.pyplot as plt \n",
    "def get_std_values(vals): \n",
    "    return(vals - vals.mean())/vals.std() \n",
    "x_axis = get_std_values(mba_salary_lm.fittedvalues) \n",
    "y_axis = get_std_values(mba_salary_lm.resid) \n",
    "plt.scatter(x_axis, y_axis) \n",
    "plt.show()\n",
    "\n",
    "from scipy.stats import zscore \n",
    "df['z_score_salary'] = zscore(df.Salary) \n",
    "df[(df.z_score_salary > 3.0)| (df.z_score_salary< -3.0)] \n",
    "\n",
    "import numpy as np \n",
    "mba_influence = mba_salary_lm.get_influence() \n",
    "(c,p) = mba_influence.cooks_distance\n",
    "plt.stem(np.arange(len(train_X)),np.round(c,3)) \n",
    "plt.xlabel(\"Row Index\") \n",
    "plt.ylabel(\"Cooks Distance\") \n",
    "plt.show() "
   ]
  },
  {
   "cell_type": "code",
   "execution_count": null,
   "id": "86dc7de7-2467-4a59-b6cc-f725cde6c518",
   "metadata": {},
   "outputs": [],
   "source": []
  },
  {
   "cell_type": "code",
   "execution_count": null,
   "id": "cc8a2903-e013-47ab-bbe2-68357b34b2ef",
   "metadata": {},
   "outputs": [],
   "source": [
    "#prg 3\n",
    "\n",
    "features = ['male', 'age', 'education', 'currentSmoker', 'cigsPerDay', 'BPMeds', 'prevalentStroke', \n",
    "            'prevalentHyp', 'diabetes', 'totChol', 'sysBP', 'diaBP', 'BMI', 'heartRate', 'glucose']\n",
    "\n",
    "X = df[features]\n",
    "y = df['TenYearCHD']\n",
    "\n",
    "X.fillna(X.mean(), inplace=True)\n",
    "\n",
    "from sklearn.model_selection import train_test_split as tts\n",
    "X_train, X_test, y_train, y_test = tts(X, y, train_size=0.8, random_state=100)\n",
    "\n",
    "from sklearn.linear_model import LogisticRegression as lr\n",
    "model = lr()\n",
    "model.fit(X_train, y_train)\n",
    "\n",
    "y_pred = model.predict(X_test)\n",
    "y_pred_proba = model.predict_proba(X_test)[:, 1]\n",
    "\n",
    "from sklearn.metrics import classification_report as cr, roc_auc_score as ras\n",
    "print(\"Classification Report: \\n\",cr(y_test, y_pred))\n",
    "print(\"AUC-ROC Score:\", ras(y_test, y_pred_proba))\n",
    "\n",
    "# ROC curve\n",
    "import matplotlib.pyplot as plt\n",
    "from sklearn.metrics import roc_curve, auc\n",
    "\n",
    "f,t,_ = roc_curve(y_test, y_pred_proba)\n",
    "roc_auc = auc(f, t)\n",
    "plt.plot(f, t, color='blue')\n",
    "\n",
    "coefficients = model.coef_[0]\n",
    "plt.barh(features, coefficients)"
   ]
  },
  {
   "cell_type": "code",
   "execution_count": null,
   "id": "b19fe9f5-8a7b-4b49-bb52-f664e21da7be",
   "metadata": {},
   "outputs": [],
   "source": []
  },
  {
   "cell_type": "code",
   "execution_count": null,
   "id": "219bd90e-01ec-46cf-a3cb-321d698c4271",
   "metadata": {},
   "outputs": [],
   "source": [
    "#prg 4\n",
    "\n",
    "df['checkin_acc'].unique()\n",
    "\n",
    "X_features = list(df.columns)\n",
    "X_features.remove('status') \n",
    "encoded_df = pd.get_dummies(df[X_features], drop_first=True)\n",
    "print(list(encoded_df.columns))\n",
    "\n",
    "X = encoded_df\n",
    "Y = df['status']\n",
    "\n",
    "from sklearn.model_selection import train_test_split\n",
    "X_train, X_test, y_train, y_test = train_test_split(X, Y, test_size=0.3, random_state=42)\n",
    "\n",
    "from sklearn.tree import DecisionTreeClassifier\n",
    "clf = DecisionTreeClassifier(criterion='gini', max_depth=3)\n",
    "clf.fit(X_train, y_train)\n",
    "\n",
    "pred_y = clf.predict(X_test)\n",
    "\n",
    "from sklearn import metrics\n",
    "print(\"Confusion Matrix is\\n\", metrics.confusion_matrix(pred_y, y_test))\n",
    "print(\"Accuracy is\", metrics.accuracy_score(pred_y, y_test))\n",
    "print(\"AUC Score is\", metrics.roc_auc_score(pred_y, y_test))\n",
    "\n",
    "import matplotlib.pyplot as plt\n",
    "plt.figure(figsize=(14, 4))\n",
    "tree.plot_tree(clf, filled=True)\n",
    "plt.show()"
   ]
  },
  {
   "cell_type": "code",
   "execution_count": null,
   "id": "6305c06d-4f32-4710-8dc1-f1ed459ca125",
   "metadata": {},
   "outputs": [],
   "source": []
  },
  {
   "cell_type": "code",
   "execution_count": null,
   "id": "693378ba-ec89-4545-95fb-5268798f4520",
   "metadata": {},
   "outputs": [],
   "source": [
    "# prg 5\n",
    "\n",
    "import seaborn as sb\n",
    "\n",
    "sb.countplot(x=df['target'])\n",
    "x=df.drop(columns=['target'])\n",
    "y=df['target']\n",
    "\n",
    "from sklearn.model_selection import train_test_split\n",
    "train_x,test_x,train_y,test_y=train_test_split(x,y,test_size=0.2,random_state=4)\n",
    "\n",
    "from sklearn.neighbors import KNeighborsClassifier\n",
    "knn=KNeighborsClassifier()\n",
    "knn.fit(train_x,train_y)\n",
    "\n",
    "pred_y=knn.predict(test_x)\n",
    "\n",
    "from sklearn.metrics import  classification_report, roc_auc_score\n",
    "print(classification_report(test_y,pred_y))\n",
    "print(roc_auc_score(test_y,pred_y))\n",
    "\n"
   ]
  },
  {
   "cell_type": "code",
   "execution_count": null,
   "id": "6a2ac819-c9f6-4831-8a7e-24f27b335bae",
   "metadata": {},
   "outputs": [],
   "source": []
  },
  {
   "cell_type": "code",
   "execution_count": 3,
   "id": "100bcb31-531d-4fb1-9c3e-2a1b06b74a4f",
   "metadata": {},
   "outputs": [
    {
     "name": "stdout",
     "output_type": "stream",
     "text": [
      "Tokens: ['Tokenization', 'is', 'an', 'important', 'NLP', 'technique', '.', 'It', 'involves', 'breaking', 'down', 'text', 'into', 'smaller', 'units', '.']\n"
     ]
    }
   ],
   "source": [
    "#prg 6\n",
    "\n",
    "import nltk\n",
    "from nltk.tokenize import word_tokenize\n",
    "from nltk.stem import PorterStemmer, WordNetLemmatizer\n",
    "from nltk.corpus import wordnet\n",
    "\n",
    "text = \"Tokenization is an important NLP technique. It involves breaking down text into smaller units.\"\n",
    "\n",
    "tokens = word_tokenize(text)\n",
    "print(\"Tokens:\", tokens)\n",
    "\n",
    "stemmer = PorterStemmer()\n",
    "stemmed_words = [stemmer.stem(token) for token in tokens]\n",
    "print(\"Stemmed words:\", stemmed_words)\n",
    "\n",
    "porter = PorterStemmer()\n",
    "print(porter.stem(\"play\"))\n",
    "print(porter.stem(\"playing\"))\n",
    "print(porter.stem(\"plays\"))\n",
    "print(porter.stem(\"played\"))\n",
    "\n",
    "emmatizer = WordNetLemmatizer()\n",
    "lemmatized_words = [lemmatizer.lemmatize(token, wordnet.VERB) for token in tokens]\n",
    "print(\"Lemmatized words:\", lemmatized_words)"
   ]
  },
  {
   "cell_type": "code",
   "execution_count": null,
   "id": "fce6d1a6-c759-453f-80e3-b0aaeffddf94",
   "metadata": {},
   "outputs": [],
   "source": []
  },
  {
   "cell_type": "code",
   "execution_count": null,
   "id": "6367b45a-60e1-4bd7-9779-54f258875b09",
   "metadata": {},
   "outputs": [],
   "source": [
    "#prg 7\n",
    "\n",
    "from collections import Counter\n",
    "import re\n",
    "\n",
    "def bag(docs):\n",
    "    return [Counter(re.findall(r'\\w+', doc.lower())) for doc in docs]\n",
    "\n",
    "docs = [\"This program first imports necessary modules from NLTK. \"\n",
    "        \"After that, it defines a simple text. The program then tokenize the text.\"]\n",
    "\n",
    "for i, doc in enumerate(docs):\n",
    "    print(f\"BAG of words for Doc:\\n{bag(docs)[i]}\\n\")"
   ]
  },
  {
   "cell_type": "code",
   "execution_count": null,
   "id": "20a9def0-76e3-4742-925e-f3cbb992eb08",
   "metadata": {},
   "outputs": [],
   "source": []
  },
  {
   "cell_type": "code",
   "execution_count": null,
   "id": "13584901-4ee4-4bb5-85ea-44a59ae42da4",
   "metadata": {},
   "outputs": [],
   "source": [
    "# prg 8\n",
    "\n",
    "import pandas as pd\n",
    "import numpy as np\n",
    "import matplotlib.pyplot as plt\n",
    "import statsmodels.api as sm\n",
    "\n",
    "data = pd.read_csv('AIML/time.csv')\n",
    "data.head()\n",
    "\n",
    "data['Daily minimum temperatures'] = pd.to_numeric(data['Daily minimum temperatures'], errors='coerce')\n",
    "data.dropna(subset=['Daily minimum temperatures'], inplace=True)\n",
    "\n",
    "decomposition = sm.tsa.seasonal_decompose(data['Daily minimum temperatures'], model='additive', period=5)\n",
    "trend = decomposition.trend\n",
    "seasonal = decomposition.seasonal\n",
    "residual = decomposition.resid\n",
    "\n",
    "plt.plot(data.index, data['Daily minimum temperatures'])\n",
    "plt.title('Daily Minimum Temperatures')\n",
    "plt.xlabel('Date')\n",
    "plt.ylabel('Temperature')\n",
    "plt.show()\n",
    "\n",
    "plt.plot(data['Daily minimum temperatures'])\n",
    "plt.show()"
   ]
  },
  {
   "cell_type": "code",
   "execution_count": null,
   "id": "02cdd879-a1e8-412f-85b2-0700b312a6d7",
   "metadata": {},
   "outputs": [],
   "source": []
  },
  {
   "cell_type": "code",
   "execution_count": null,
   "id": "592ad0c2-de6c-4830-b741-794ea7558d4b",
   "metadata": {},
   "outputs": [],
   "source": [
    "#prg 9\n",
    "\n",
    "import random\n",
    "\n",
    "def game():\n",
    "    while True:\n",
    "        user = input(\"Enter the option(rock | paper | scissors or exit): \").lower()\n",
    "        if user == \"exit\":\n",
    "            print(\"Game Over!!\")\n",
    "            break\n",
    "        if user not in ['rock', 'paper', 'scissors']:\n",
    "            print(\"Invalid input!! try again!!\")\n",
    "            continue\n",
    "\n",
    "        bot = random.choice(['rock', 'paper', 'scissors'])\n",
    "        print(f\"Bot Choose: {bot}\")\n",
    "\n",
    "        if user == bot:\n",
    "            print(\"It's a tie!!\")\n",
    "        elif (user == 'rock' and bot == 'scissors') or \\\n",
    "             (user == 'paper' and bot == 'rock') or \\\n",
    "             (user == 'scissors' and bot == 'paper'):\n",
    "            print(\"You win!!\")\n",
    "        else:\n",
    "            print(\"You Lose!!\")\n",
    "game()"
   ]
  },
  {
   "cell_type": "code",
   "execution_count": null,
   "id": "6f4db503-941a-4afc-810b-903006a576fd",
   "metadata": {},
   "outputs": [],
   "source": []
  },
  {
   "cell_type": "code",
   "execution_count": null,
   "id": "cda4cee9-3295-48ca-b928-012f7e5ee3ce",
   "metadata": {},
   "outputs": [],
   "source": [
    "!pip install SpeechRecognition\n",
    "!pip install PocketSphinx\n",
    "\n",
    "import speech_recognition as sr\n",
    "\n",
    "with sr.AudioFile(\"texttospeech.wav\") as source:\n",
    "    audio = sr.Recognizer().record(source)\n",
    "    try:\n",
    "        print(\"Recognized text:\", sr.Recognizer().recognize_sphinx(audio))\n",
    "    except sr.UnknownValueError:\n",
    "        print(\"Could not understand the audio\")\n",
    "    except sr.RequestError as e:\n",
    "        print(\"Error:\", e)"
   ]
  },
  {
   "cell_type": "code",
   "execution_count": null,
   "id": "b8ca14be-6707-4d20-8eeb-b5d61e6ca4e3",
   "metadata": {},
   "outputs": [],
   "source": []
  },
  {
   "cell_type": "code",
   "execution_count": null,
   "id": "3039f5c1-cd3b-4dc0-a218-764fc4d7f816",
   "metadata": {},
   "outputs": [],
   "source": []
  },
  {
   "cell_type": "code",
   "execution_count": null,
   "id": "45d1869a-bcca-4e1b-a8d2-abf591ccf12c",
   "metadata": {},
   "outputs": [],
   "source": []
  },
  {
   "cell_type": "code",
   "execution_count": null,
   "id": "7b62e351-b3f7-4019-8aa5-453793da863f",
   "metadata": {},
   "outputs": [],
   "source": []
  },
  {
   "cell_type": "code",
   "execution_count": null,
   "id": "18770225-6c9c-4646-a800-417ecc5fcd2b",
   "metadata": {},
   "outputs": [],
   "source": []
  },
  {
   "cell_type": "code",
   "execution_count": null,
   "id": "58aef917-0556-495d-9f06-341022e3d785",
   "metadata": {},
   "outputs": [],
   "source": []
  },
  {
   "cell_type": "code",
   "execution_count": null,
   "id": "6a158aed-1b09-48b9-bc0e-96271a42c670",
   "metadata": {},
   "outputs": [],
   "source": []
  },
  {
   "cell_type": "code",
   "execution_count": null,
   "id": "e10db1ef-286a-4849-8d34-d1bca1e73727",
   "metadata": {},
   "outputs": [],
   "source": []
  },
  {
   "cell_type": "code",
   "execution_count": null,
   "id": "591e06e3-73fb-4171-bf89-62954983bd9e",
   "metadata": {},
   "outputs": [],
   "source": []
  },
  {
   "cell_type": "code",
   "execution_count": null,
   "id": "af6c00b0-c23a-4bd6-bcc7-997033784f38",
   "metadata": {},
   "outputs": [],
   "source": []
  },
  {
   "cell_type": "code",
   "execution_count": null,
   "id": "db4d486a-041b-4b99-8ff8-90190d5721e1",
   "metadata": {},
   "outputs": [],
   "source": []
  },
  {
   "cell_type": "code",
   "execution_count": null,
   "id": "21d0493d-6194-41af-bb7b-4a8886b2a862",
   "metadata": {},
   "outputs": [],
   "source": []
  },
  {
   "cell_type": "code",
   "execution_count": null,
   "id": "ecdafadb-da02-47ac-aa96-d42a35da1d3b",
   "metadata": {},
   "outputs": [],
   "source": []
  },
  {
   "cell_type": "code",
   "execution_count": null,
   "id": "558eb9af-547e-413a-8133-42dc3645f8b2",
   "metadata": {},
   "outputs": [],
   "source": []
  },
  {
   "cell_type": "code",
   "execution_count": null,
   "id": "0f0ab83f-bb1a-4710-928f-6d1011610f83",
   "metadata": {},
   "outputs": [],
   "source": []
  },
  {
   "cell_type": "code",
   "execution_count": null,
   "id": "67d3449a-4b06-4287-8d6f-5ad54478975e",
   "metadata": {},
   "outputs": [],
   "source": []
  },
  {
   "cell_type": "code",
   "execution_count": null,
   "id": "423a126d-a71b-40b8-9883-ac14aa718ffe",
   "metadata": {},
   "outputs": [],
   "source": []
  },
  {
   "cell_type": "code",
   "execution_count": null,
   "id": "db4df338-93de-42c4-ae31-5f780d6535ef",
   "metadata": {},
   "outputs": [],
   "source": []
  },
  {
   "cell_type": "code",
   "execution_count": null,
   "id": "c364220f-1bb8-488d-9316-5f033ad8a8bd",
   "metadata": {},
   "outputs": [],
   "source": []
  },
  {
   "cell_type": "code",
   "execution_count": null,
   "id": "856e921b-6cb3-4efe-adb9-66c4b847a65a",
   "metadata": {},
   "outputs": [],
   "source": []
  },
  {
   "cell_type": "code",
   "execution_count": null,
   "id": "a238e03a-f1cc-414a-a8be-f95f9689a589",
   "metadata": {},
   "outputs": [],
   "source": []
  },
  {
   "cell_type": "code",
   "execution_count": null,
   "id": "589bc7cf-9c9f-4aa1-890c-ac1be8d46351",
   "metadata": {},
   "outputs": [],
   "source": []
  },
  {
   "cell_type": "code",
   "execution_count": null,
   "id": "65adc3f4-cffd-4636-ba4b-2397fa8ebe9b",
   "metadata": {},
   "outputs": [],
   "source": []
  },
  {
   "cell_type": "code",
   "execution_count": null,
   "id": "2cb73ff8-6ac8-400f-8e2b-bfd9bc42ebce",
   "metadata": {},
   "outputs": [],
   "source": []
  },
  {
   "cell_type": "code",
   "execution_count": null,
   "id": "d3457326-5267-4c15-86cf-fdcf38654459",
   "metadata": {},
   "outputs": [],
   "source": []
  },
  {
   "cell_type": "code",
   "execution_count": null,
   "id": "918909a9-b81d-4845-be28-509bf44a5d1b",
   "metadata": {},
   "outputs": [],
   "source": []
  },
  {
   "cell_type": "code",
   "execution_count": null,
   "id": "b4ba845e-36ac-45b0-9e80-239f189e5d59",
   "metadata": {},
   "outputs": [],
   "source": []
  },
  {
   "cell_type": "code",
   "execution_count": null,
   "id": "2dc624fc-7f3d-4f3d-a0b7-9c9b1dcdc1f7",
   "metadata": {},
   "outputs": [],
   "source": []
  },
  {
   "cell_type": "code",
   "execution_count": null,
   "id": "643461cf-6ca8-48e6-a1cf-1798f5ac5bc4",
   "metadata": {},
   "outputs": [],
   "source": []
  },
  {
   "cell_type": "code",
   "execution_count": null,
   "id": "aab91dba-29f1-42a2-8e74-9a2a8c17c4e2",
   "metadata": {},
   "outputs": [],
   "source": []
  },
  {
   "cell_type": "code",
   "execution_count": null,
   "id": "fef1a990-af09-43b3-a703-59cbfdcc438d",
   "metadata": {},
   "outputs": [],
   "source": []
  },
  {
   "cell_type": "code",
   "execution_count": null,
   "id": "cc410101-0d84-46d8-9b76-6fccad223ca4",
   "metadata": {},
   "outputs": [],
   "source": []
  },
  {
   "cell_type": "code",
   "execution_count": null,
   "id": "6584a7f4-e1ea-427b-ac75-51660a02a768",
   "metadata": {},
   "outputs": [],
   "source": []
  },
  {
   "cell_type": "code",
   "execution_count": null,
   "id": "8776cf59-519d-4675-8d86-2ec1ce9d498b",
   "metadata": {},
   "outputs": [],
   "source": []
  },
  {
   "cell_type": "code",
   "execution_count": null,
   "id": "c8d5ad8d-0bb8-4786-9d7c-f121be455bae",
   "metadata": {},
   "outputs": [],
   "source": []
  },
  {
   "cell_type": "code",
   "execution_count": null,
   "id": "9c1c435a-5a92-4fd5-b016-79682c13c194",
   "metadata": {},
   "outputs": [],
   "source": []
  },
  {
   "cell_type": "code",
   "execution_count": null,
   "id": "3d7f4957-f92e-4389-a8d8-c2d35755c263",
   "metadata": {},
   "outputs": [],
   "source": []
  },
  {
   "cell_type": "code",
   "execution_count": null,
   "id": "04ca9581-4f8f-475f-ab47-44b64da5b6e2",
   "metadata": {},
   "outputs": [],
   "source": []
  },
  {
   "cell_type": "code",
   "execution_count": null,
   "id": "03e02ff8-6fc8-49f0-ae5b-2f8faee6a3b5",
   "metadata": {},
   "outputs": [],
   "source": []
  },
  {
   "cell_type": "code",
   "execution_count": null,
   "id": "032df040-65d2-425f-8d70-0c3d7d189a11",
   "metadata": {},
   "outputs": [],
   "source": []
  },
  {
   "cell_type": "code",
   "execution_count": null,
   "id": "dcd18bc9-82f8-4a4c-b47c-e351be77d456",
   "metadata": {},
   "outputs": [],
   "source": []
  },
  {
   "cell_type": "code",
   "execution_count": null,
   "id": "44707b16-b7df-44f0-b42a-ec1ed3122de2",
   "metadata": {},
   "outputs": [],
   "source": []
  },
  {
   "cell_type": "code",
   "execution_count": null,
   "id": "d8e3f94f-e6c5-4333-bd40-68f065215678",
   "metadata": {},
   "outputs": [],
   "source": []
  },
  {
   "cell_type": "code",
   "execution_count": null,
   "id": "fb71214c-114a-4d29-aa65-02944c9ff67c",
   "metadata": {},
   "outputs": [],
   "source": []
  },
  {
   "cell_type": "code",
   "execution_count": null,
   "id": "09117737-0e57-4d14-b25e-c852e998c487",
   "metadata": {},
   "outputs": [],
   "source": []
  },
  {
   "cell_type": "code",
   "execution_count": null,
   "id": "a09ac78f-7734-43d5-a59c-406529a5cc6a",
   "metadata": {},
   "outputs": [],
   "source": []
  },
  {
   "cell_type": "code",
   "execution_count": null,
   "id": "4af187d0-8e14-4fe8-962d-1b6074a5f4b4",
   "metadata": {},
   "outputs": [],
   "source": []
  },
  {
   "cell_type": "code",
   "execution_count": null,
   "id": "0f49cc6c-c5e8-4050-8a2f-eb558f7c7277",
   "metadata": {},
   "outputs": [],
   "source": []
  },
  {
   "cell_type": "code",
   "execution_count": null,
   "id": "6d6b0931-d40d-4248-847a-81833db13c09",
   "metadata": {},
   "outputs": [],
   "source": []
  },
  {
   "cell_type": "code",
   "execution_count": null,
   "id": "e00daf82-90c5-46b0-8d23-d38424626565",
   "metadata": {},
   "outputs": [],
   "source": []
  },
  {
   "cell_type": "code",
   "execution_count": null,
   "id": "2453d9bd-f0eb-4c10-b92f-c6e26bd36ce9",
   "metadata": {},
   "outputs": [],
   "source": []
  },
  {
   "cell_type": "code",
   "execution_count": null,
   "id": "410774e0-533a-468b-a9f3-e7d21604e26d",
   "metadata": {},
   "outputs": [],
   "source": []
  },
  {
   "cell_type": "code",
   "execution_count": null,
   "id": "cae745fa-2981-461f-b877-f01937917e75",
   "metadata": {},
   "outputs": [],
   "source": []
  },
  {
   "cell_type": "code",
   "execution_count": null,
   "id": "93be9547-44a5-4178-9f27-72c376780c67",
   "metadata": {},
   "outputs": [],
   "source": []
  },
  {
   "cell_type": "code",
   "execution_count": null,
   "id": "f54b2dc7-9d2a-481e-8536-b7e3171f6665",
   "metadata": {},
   "outputs": [],
   "source": []
  },
  {
   "cell_type": "code",
   "execution_count": null,
   "id": "651cdd42-f4ab-49c1-a32c-09febb0c04ec",
   "metadata": {},
   "outputs": [],
   "source": []
  },
  {
   "cell_type": "code",
   "execution_count": null,
   "id": "f87a22f4-b1e4-44ad-9375-605940cce090",
   "metadata": {},
   "outputs": [],
   "source": []
  },
  {
   "cell_type": "code",
   "execution_count": null,
   "id": "62258d3c-aef1-4f1a-8b0d-de9c2a246d12",
   "metadata": {},
   "outputs": [],
   "source": []
  },
  {
   "cell_type": "code",
   "execution_count": null,
   "id": "997a4365-9a74-4a53-8c3f-e159f8398515",
   "metadata": {},
   "outputs": [],
   "source": []
  },
  {
   "cell_type": "code",
   "execution_count": null,
   "id": "776058a7-3efb-46c9-b7b0-b7e6b106e8f3",
   "metadata": {},
   "outputs": [],
   "source": []
  },
  {
   "cell_type": "code",
   "execution_count": null,
   "id": "bce26173-c4f6-41bd-9732-ef27f2d7ba37",
   "metadata": {},
   "outputs": [],
   "source": []
  },
  {
   "cell_type": "code",
   "execution_count": null,
   "id": "903d1e25-4a9b-44f7-b279-7a92093b667a",
   "metadata": {},
   "outputs": [],
   "source": []
  },
  {
   "cell_type": "code",
   "execution_count": null,
   "id": "0fccd074-3744-493f-9047-5aa0db9528d1",
   "metadata": {},
   "outputs": [],
   "source": []
  },
  {
   "cell_type": "code",
   "execution_count": null,
   "id": "02fa8480-3269-49cc-bdde-f06454c24b5b",
   "metadata": {},
   "outputs": [],
   "source": []
  },
  {
   "cell_type": "code",
   "execution_count": null,
   "id": "14853853-da4d-420f-b857-f82f29765d8c",
   "metadata": {},
   "outputs": [],
   "source": []
  },
  {
   "cell_type": "code",
   "execution_count": null,
   "id": "8232414c-0404-4bd2-9322-7d6d6653536c",
   "metadata": {},
   "outputs": [],
   "source": []
  },
  {
   "cell_type": "code",
   "execution_count": null,
   "id": "4d96f0b5-ceb7-42d4-8b63-21778866c153",
   "metadata": {},
   "outputs": [],
   "source": []
  },
  {
   "cell_type": "code",
   "execution_count": null,
   "id": "d8871231-6610-419a-b107-7724f6494e31",
   "metadata": {},
   "outputs": [],
   "source": []
  }
 ],
 "metadata": {
  "kernelspec": {
   "display_name": "Python 3 (ipykernel)",
   "language": "python",
   "name": "python3"
  },
  "language_info": {
   "codemirror_mode": {
    "name": "ipython",
    "version": 3
   },
   "file_extension": ".py",
   "mimetype": "text/x-python",
   "name": "python",
   "nbconvert_exporter": "python",
   "pygments_lexer": "ipython3",
   "version": "3.12.7"
  }
 },
 "nbformat": 4,
 "nbformat_minor": 5
}
