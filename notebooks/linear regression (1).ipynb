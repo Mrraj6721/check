{
 "cells": [
  {
   "cell_type": "code",
   "execution_count": 1,
   "id": "245026d7-7fe5-4bb9-991d-014dd38dd660",
   "metadata": {},
   "outputs": [
    {
     "data": {
      "text/html": [
       "<div>\n",
       "<style scoped>\n",
       "    .dataframe tbody tr th:only-of-type {\n",
       "        vertical-align: middle;\n",
       "    }\n",
       "\n",
       "    .dataframe tbody tr th {\n",
       "        vertical-align: top;\n",
       "    }\n",
       "\n",
       "    .dataframe thead th {\n",
       "        text-align: right;\n",
       "    }\n",
       "</style>\n",
       "<table border=\"1\" class=\"dataframe\">\n",
       "  <thead>\n",
       "    <tr style=\"text-align: right;\">\n",
       "      <th></th>\n",
       "      <th>S. No.</th>\n",
       "      <th>Percentage in Grade 10</th>\n",
       "      <th>Salary</th>\n",
       "    </tr>\n",
       "  </thead>\n",
       "  <tbody>\n",
       "    <tr>\n",
       "      <th>0</th>\n",
       "      <td>1</td>\n",
       "      <td>62.00</td>\n",
       "      <td>270000</td>\n",
       "    </tr>\n",
       "    <tr>\n",
       "      <th>1</th>\n",
       "      <td>2</td>\n",
       "      <td>76.33</td>\n",
       "      <td>200000</td>\n",
       "    </tr>\n",
       "    <tr>\n",
       "      <th>2</th>\n",
       "      <td>3</td>\n",
       "      <td>72.00</td>\n",
       "      <td>240000</td>\n",
       "    </tr>\n",
       "  </tbody>\n",
       "</table>\n",
       "</div>"
      ],
      "text/plain": [
       "   S. No.  Percentage in Grade 10  Salary\n",
       "0       1                   62.00  270000\n",
       "1       2                   76.33  200000\n",
       "2       3                   72.00  240000"
      ]
     },
     "execution_count": 1,
     "metadata": {},
     "output_type": "execute_result"
    }
   ],
   "source": [
    "import pandas as pd \n",
    "df = pd.read_csv(\"MBA Salary.csv\") \n",
    "df.head(3) "
   ]
  },
  {
   "cell_type": "code",
   "execution_count": 2,
   "id": "91ccab35-4678-4075-a863-3008a6d92ca8",
   "metadata": {},
   "outputs": [
    {
     "name": "stdout",
     "output_type": "stream",
     "text": [
      "<class 'pandas.core.frame.DataFrame'>\n",
      "RangeIndex: 50 entries, 0 to 49\n",
      "Data columns (total 3 columns):\n",
      " #   Column                  Non-Null Count  Dtype  \n",
      "---  ------                  --------------  -----  \n",
      " 0   S. No.                  50 non-null     int64  \n",
      " 1   Percentage in Grade 10  50 non-null     float64\n",
      " 2   Salary                  50 non-null     int64  \n",
      "dtypes: float64(1), int64(2)\n",
      "memory usage: 1.3 KB\n"
     ]
    }
   ],
   "source": [
    "df.info() \n"
   ]
  },
  {
   "cell_type": "code",
   "execution_count": 3,
   "id": "a148ab87-acf8-4b7a-b63e-9d967a7d4d9b",
   "metadata": {},
   "outputs": [
    {
     "data": {
      "text/plain": [
       "(50, 3)"
      ]
     },
     "execution_count": 3,
     "metadata": {},
     "output_type": "execute_result"
    }
   ],
   "source": [
    "df.shape "
   ]
  },
  {
   "cell_type": "code",
   "execution_count": 4,
   "id": "1c757cb3-5ba9-47c3-83bb-6b1d13c3700b",
   "metadata": {},
   "outputs": [
    {
     "data": {
      "text/html": [
       "<div>\n",
       "<style scoped>\n",
       "    .dataframe tbody tr th:only-of-type {\n",
       "        vertical-align: middle;\n",
       "    }\n",
       "\n",
       "    .dataframe tbody tr th {\n",
       "        vertical-align: top;\n",
       "    }\n",
       "\n",
       "    .dataframe thead th {\n",
       "        text-align: right;\n",
       "    }\n",
       "</style>\n",
       "<table border=\"1\" class=\"dataframe\">\n",
       "  <thead>\n",
       "    <tr style=\"text-align: right;\">\n",
       "      <th></th>\n",
       "      <th>const</th>\n",
       "      <th>Percentage in Grade 10</th>\n",
       "    </tr>\n",
       "  </thead>\n",
       "  <tbody>\n",
       "    <tr>\n",
       "      <th>0</th>\n",
       "      <td>1.0</td>\n",
       "      <td>62.00</td>\n",
       "    </tr>\n",
       "    <tr>\n",
       "      <th>1</th>\n",
       "      <td>1.0</td>\n",
       "      <td>76.33</td>\n",
       "    </tr>\n",
       "    <tr>\n",
       "      <th>2</th>\n",
       "      <td>1.0</td>\n",
       "      <td>72.00</td>\n",
       "    </tr>\n",
       "    <tr>\n",
       "      <th>3</th>\n",
       "      <td>1.0</td>\n",
       "      <td>60.00</td>\n",
       "    </tr>\n",
       "    <tr>\n",
       "      <th>4</th>\n",
       "      <td>1.0</td>\n",
       "      <td>61.00</td>\n",
       "    </tr>\n",
       "  </tbody>\n",
       "</table>\n",
       "</div>"
      ],
      "text/plain": [
       "   const  Percentage in Grade 10\n",
       "0    1.0                   62.00\n",
       "1    1.0                   76.33\n",
       "2    1.0                   72.00\n",
       "3    1.0                   60.00\n",
       "4    1.0                   61.00"
      ]
     },
     "execution_count": 4,
     "metadata": {},
     "output_type": "execute_result"
    }
   ],
   "source": [
    "import statsmodels.api as sm \n",
    "X = sm.add_constant(df['Percentage in Grade 10']) \n",
    "X.head(5)"
   ]
  },
  {
   "cell_type": "code",
   "execution_count": 5,
   "id": "8eb6d86b-4a04-4347-a190-f232158881c0",
   "metadata": {},
   "outputs": [
    {
     "data": {
      "text/plain": [
       "0    270000\n",
       "1    200000\n",
       "2    240000\n",
       "3    250000\n",
       "4    180000\n",
       "Name: Salary, dtype: int64"
      ]
     },
     "execution_count": 5,
     "metadata": {},
     "output_type": "execute_result"
    }
   ],
   "source": [
    "Y =df['Salary'] \n",
    "Y.head() "
   ]
  },
  {
   "cell_type": "code",
   "execution_count": 6,
   "id": "f68930b6-9961-4e1e-8a63-c102af76e298",
   "metadata": {},
   "outputs": [],
   "source": [
    "from sklearn.model_selection import train_test_split \n",
    "train_X, test_X, train_y, test_y = train_test_split(X,Y,train_size = 0.8, random_state = 100)"
   ]
  },
  {
   "cell_type": "code",
   "execution_count": 7,
   "id": "f9726e09-10fa-44bb-a959-3bc8f59df5e2",
   "metadata": {},
   "outputs": [],
   "source": [
    "mba_salary_lm = sm.OLS(train_y, train_X).fit()"
   ]
  },
  {
   "cell_type": "code",
   "execution_count": 8,
   "id": "5c26e6c0-ed00-4a63-8611-9274ef46b456",
   "metadata": {},
   "outputs": [
    {
     "name": "stdout",
     "output_type": "stream",
     "text": [
      "const                     30587.285652\n",
      "Percentage in Grade 10     3560.587383\n",
      "dtype: float64\n"
     ]
    }
   ],
   "source": [
    "print(mba_salary_lm.params) "
   ]
  },
  {
   "cell_type": "code",
   "execution_count": 9,
   "id": "463ab6b2-269b-4293-8f4f-d2ff91c3bb15",
   "metadata": {},
   "outputs": [
    {
     "name": "stdout",
     "output_type": "stream",
     "text": [
      "                          Results: Ordinary least squares\n",
      "===================================================================================\n",
      "Model:                    OLS                   Adj. R-squared:          0.190     \n",
      "Dependent Variable:       Salary                AIC:                     1008.8680 \n",
      "Date:                     2025-10-05 14:37      BIC:                     1012.2458 \n",
      "No. Observations:         40                    Log-Likelihood:          -502.43   \n",
      "Df Model:                 1                     F-statistic:             10.16     \n",
      "Df Residuals:             38                    Prob (F-statistic):      0.00287   \n",
      "R-squared:                0.211                 Scale:                   5.0121e+09\n",
      "-----------------------------------------------------------------------------------\n",
      "                         Coef.     Std.Err.    t    P>|t|     [0.025       0.975]  \n",
      "-----------------------------------------------------------------------------------\n",
      "const                  30587.2857 71869.4497 0.4256 0.6728 -114904.8088 176079.3801\n",
      "Percentage in Grade 10  3560.5874  1116.9258 3.1878 0.0029    1299.4892   5821.6855\n",
      "-----------------------------------------------------------------------------------\n",
      "Omnibus:                    2.048              Durbin-Watson:                 2.611\n",
      "Prob(Omnibus):              0.359              Jarque-Bera (JB):              1.724\n",
      "Skew:                       0.369              Prob(JB):                      0.422\n",
      "Kurtosis:                   2.300              Condition No.:                 413  \n",
      "===================================================================================\n",
      "Notes:\n",
      "[1] Standard Errors assume that the covariance matrix of the errors is correctly\n",
      "specified.\n"
     ]
    }
   ],
   "source": [
    "print(mba_salary_lm.summary2()) "
   ]
  },
  {
   "cell_type": "code",
   "execution_count": 15,
   "id": "a59376e9-bef9-4023-84f6-a1da051fd8e3",
   "metadata": {},
   "outputs": [
    {
     "data": {
      "image/png": "[encoded data removed]",
      "text/plain": [
       "<Figure size 640x480 with 1 Axes>"
      ]
     },
     "metadata": {},
     "output_type": "display_data"
    }
   ],
   "source": [
    "import matplotlib.pyplot as plt \n",
    "def get_std_values(vals): \n",
    "    return(vals - vals.mean())/vals.std() \n",
    "x_axis = get_std_values(mba_salary_lm.fittedvalues) \n",
    "y_axis = get_std_values(mba_salary_lm.resid) \n",
    "plt.scatter(x_axis, y_axis) \n",
    "plt.show()"
   ]
  },
  {
   "cell_type": "code",
   "execution_count": 17,
   "id": "c6595d15-d21a-47b1-a205-5722ca27968f",
   "metadata": {},
   "outputs": [
    {
     "data": {
      "text/html": [
       "<div>\n",
       "<style scoped>\n",
       "    .dataframe tbody tr th:only-of-type {\n",
       "        vertical-align: middle;\n",
       "    }\n",
       "\n",
       "    .dataframe tbody tr th {\n",
       "        vertical-align: top;\n",
       "    }\n",
       "\n",
       "    .dataframe thead th {\n",
       "        text-align: right;\n",
       "    }\n",
       "</style>\n",
       "<table border=\"1\" class=\"dataframe\">\n",
       "  <thead>\n",
       "    <tr style=\"text-align: right;\">\n",
       "      <th></th>\n",
       "      <th>S. No.</th>\n",
       "      <th>Percentage in Grade 10</th>\n",
       "      <th>Salary</th>\n",
       "      <th>z_score_salary</th>\n",
       "    </tr>\n",
       "  </thead>\n",
       "  <tbody>\n",
       "    <tr>\n",
       "      <th>8</th>\n",
       "      <td>9</td>\n",
       "      <td>82.8</td>\n",
       "      <td>425000</td>\n",
       "      <td>2.196439</td>\n",
       "    </tr>\n",
       "    <tr>\n",
       "      <th>12</th>\n",
       "      <td>13</td>\n",
       "      <td>66.0</td>\n",
       "      <td>428000</td>\n",
       "      <td>2.235941</td>\n",
       "    </tr>\n",
       "    <tr>\n",
       "      <th>13</th>\n",
       "      <td>14</td>\n",
       "      <td>83.0</td>\n",
       "      <td>450000</td>\n",
       "      <td>2.525625</td>\n",
       "    </tr>\n",
       "  </tbody>\n",
       "</table>\n",
       "</div>"
      ],
      "text/plain": [
       "    S. No.  Percentage in Grade 10  Salary  z_score_salary\n",
       "8        9                    82.8  425000        2.196439\n",
       "12      13                    66.0  428000        2.235941\n",
       "13      14                    83.0  450000        2.525625"
      ]
     },
     "execution_count": 17,
     "metadata": {},
     "output_type": "execute_result"
    }
   ],
   "source": [
    "from scipy.stats import zscore \n",
    "df['z_score_salary'] = zscore(df.Salary) \n",
    "df[(df.z_score_salary > 2.0)| (df.z_score_salary< -3.0)]"
   ]
  },
  {
   "cell_type": "code",
   "execution_count": 18,
   "id": "7a26baba-ffea-4fe3-8aef-bb0ef0aca7f7",
   "metadata": {},
   "outputs": [
    {
     "data": {
      "image/png": "[encoded data removed]",
      "text/plain": [
       "<Figure size 640x480 with 1 Axes>"
      ]
     },
     "metadata": {},
     "output_type": "display_data"
    }
   ],
   "source": [
    "import numpy as np \n",
    "mba_influence = mba_salary_lm.get_influence() \n",
    "(c,p) = mba_influence.cooks_distance\n",
    "plt.stem(np.arange(len(train_X)),np.round(c,3)) \n",
    "plt.xlabel(\"Row Index\") \n",
    "plt.ylabel(\"Cooks Distance\") \n",
    "plt.show()"
   ]
  },
  {
   "cell_type": "code",
   "execution_count": 19,
   "id": "f8d80769-fff8-4cfa-bf51-fcdc76cbb04b",
   "metadata": {},
   "outputs": [
    {
     "name": "stdout",
     "output_type": "stream",
     "text": [
      "R2 Score = 0.156645849742304\n",
      "RMSE = 73458.04348346895\n"
     ]
    }
   ],
   "source": [
    "import numpy as np\n",
    "from sklearn.metrics import mean_squared_error,r2_score\n",
    "pred_y=mba_salary_lm.predict(test_X)\n",
    "print('R2 Score =',np.abs(r2_score(test_y,pred_y)))\n",
    "print('RMSE =',np.sqrt(mean_squared_error(test_y,pred_y)))"
   ]
  },
  {
   "cell_type": "code",
   "execution_count": 20,
   "id": "0ef47c61-1874-442d-8edb-3670b49e1e40",
   "metadata": {},
   "outputs": [
    {
     "data": {
      "image/png": "[encoded data removed]",
      "text/plain": [
       "<Figure size 640x480 with 1 Axes>"
      ]
     },
     "metadata": {},
     "output_type": "display_data"
    }
   ],
   "source": [
    "import matplotlib.pyplot as plt\n",
    "plt.scatter(test_X['Percentage in Grade 10'],test_y,color='red',label=\"Actual\")\n",
    "plt.plot(test_X['Percentage in Grade 10'],pred_y,color='blue',label=\"Predicted\")\n",
    "plt.xlabel('Percentage in Grade 10')\n",
    "plt.ylabel('Salary')\n",
    "plt.title('Actual vs Predicted')\n",
    "plt.legend()\n",
    "plt.show()"
   ]
  },
  {
   "cell_type": "code",
   "execution_count": null,
   "id": "7988b132-1614-4a18-97ea-e351b5657e2e",
   "metadata": {},
   "outputs": [],
   "source": []
  },
  {
   "cell_type": "code",
   "execution_count": null,
   "id": "96aec2df-69a8-4608-8505-a9bc8b517573",
   "metadata": {},
   "outputs": [],
   "source": [
    "mae = mean_absolute_error(y, y_pred)\n",
    "mse = mean_squared_error(y, y_pred)\n",
    "rmse = np.sqrt(mse)\n",
    "r2 = r2_score(y, y_pred)\n",
    "\n",
    "print(\"\\nModel Evaluation:\")\n",
    "print(f\"MAE  (Mean Absolute Error): {mae}\")\n",
    "print(f\"MSE  (Mean Squared Error): {mse}\")\n",
    "print(f\"RMSE (Root Mean Squared Error): {rmse}\")\n",
    "print(f\"R²   (R-squared): {r2}\")"
   ]
  },
  {
   "cell_type": "code",
   "execution_count": null,
   "id": "026d61a1-358b-4865-90be-a94af8ce7f86",
   "metadata": {},
   "outputs": [],
   "source": []
  }
 ],
 "metadata": {
  "kernelspec": {
   "display_name": "Python 3 (ipykernel)",
   "language": "python",
   "name": "python3"
  },
  "language_info": {
   "codemirror_mode": {
    "name": "ipython",
    "version": 3
   },
   "file_extension": ".py",
   "mimetype": "text/x-python",
   "name": "python",
   "nbconvert_exporter": "python",
   "pygments_lexer": "ipython3",
   "version": "3.12.7"
  }
 },
 "nbformat": 4,
 "nbformat_minor": 5
}
