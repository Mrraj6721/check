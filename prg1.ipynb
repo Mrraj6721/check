{
 "cells": [
  {
   "cell_type": "code",
   "execution_count": 5,
   "id": "836a61f2-b05d-43b3-8c2f-b63801d7e55b",
   "metadata": {},
   "outputs": [
    {
     "name": "stdout",
     "output_type": "stream",
     "text": [
      "   Empid           Ename    Salary        DOJ\n",
      "0   1001          Ganesh   1000.00 2000-10-10\n",
      "1   1002            Anil  23000.50 2002-03-20\n",
      "2   1003          Gaurav       NaN 2002-03-03\n",
      "3   1004    Hema Chandra  16500.50 2000-09-10\n",
      "4   1005  Laxmi Prasanna  12000.75 2000-10-08\n",
      "(6, 4)\n"
     ]
    }
   ],
   "source": [
    "import pandas as pd\n",
    "df=pd.read_excel(\"empdata.xlsx\")\n",
    "print(df.head())\n",
    "print(df.shape)"
   ]
  },
  {
   "cell_type": "code",
   "execution_count": 6,
   "id": "ebadceef-75c9-4669-ab35-8de972bf9a37",
   "metadata": {},
   "outputs": [
    {
     "data": {
      "text/html": [
       "<div>\n",
       "<style scoped>\n",
       "    .dataframe tbody tr th:only-of-type {\n",
       "        vertical-align: middle;\n",
       "    }\n",
       "\n",
       "    .dataframe tbody tr th {\n",
       "        vertical-align: top;\n",
       "    }\n",
       "\n",
       "    .dataframe thead th {\n",
       "        text-align: right;\n",
       "    }\n",
       "</style>\n",
       "<table border=\"1\" class=\"dataframe\">\n",
       "  <thead>\n",
       "    <tr style=\"text-align: right;\">\n",
       "      <th></th>\n",
       "      <th>Empid</th>\n",
       "      <th>Ename</th>\n",
       "      <th>Salary</th>\n",
       "      <th>DOJ</th>\n",
       "    </tr>\n",
       "  </thead>\n",
       "  <tbody>\n",
       "    <tr>\n",
       "      <th>0</th>\n",
       "      <td>1001</td>\n",
       "      <td>Ganesh</td>\n",
       "      <td>1000.00</td>\n",
       "      <td>2000-10-10</td>\n",
       "    </tr>\n",
       "    <tr>\n",
       "      <th>2</th>\n",
       "      <td>1003</td>\n",
       "      <td>Gaurav</td>\n",
       "      <td>NaN</td>\n",
       "      <td>2002-03-03</td>\n",
       "    </tr>\n",
       "    <tr>\n",
       "      <th>4</th>\n",
       "      <td>1005</td>\n",
       "      <td>Laxmi Prasanna</td>\n",
       "      <td>12000.75</td>\n",
       "      <td>2000-10-08</td>\n",
       "    </tr>\n",
       "  </tbody>\n",
       "</table>\n",
       "</div>"
      ],
      "text/plain": [
       "   Empid           Ename    Salary        DOJ\n",
       "0   1001          Ganesh   1000.00 2000-10-10\n",
       "2   1003          Gaurav       NaN 2002-03-03\n",
       "4   1005  Laxmi Prasanna  12000.75 2000-10-08"
      ]
     },
     "execution_count": 6,
     "metadata": {},
     "output_type": "execute_result"
    }
   ],
   "source": [
    "df[: : 2]"
   ]
  },
  {
   "cell_type": "code",
   "execution_count": 7,
   "id": "ea350591-c031-46e3-87ec-40e01c69197a",
   "metadata": {},
   "outputs": [
    {
     "data": {
      "text/plain": [
       "Index(['Empid', 'Ename', 'Salary', 'DOJ'], dtype='object')"
      ]
     },
     "execution_count": 7,
     "metadata": {},
     "output_type": "execute_result"
    }
   ],
   "source": [
    "df.columns"
   ]
  },
  {
   "cell_type": "code",
   "execution_count": 8,
   "id": "6463ae35-7ceb-49a0-b4b1-64afec021b7f",
   "metadata": {},
   "outputs": [
    {
     "name": "stdout",
     "output_type": "stream",
     "text": [
      "(6, 4)\n",
      "(12, 4)\n"
     ]
    }
   ],
   "source": [
    "df1 = pd.concat([df, df])\n",
    "print(df.shape)\n",
    "print(df1.shape)"
   ]
  },
  {
   "cell_type": "code",
   "execution_count": 9,
   "id": "fadccfb0-60da-49e5-9c87-52be842378cb",
   "metadata": {},
   "outputs": [
    {
     "data": {
      "text/plain": [
       "(6, 4)"
      ]
     },
     "execution_count": 9,
     "metadata": {},
     "output_type": "execute_result"
    }
   ],
   "source": [
    "df1 = df1.drop_duplicates()\n",
    "df1.shape"
   ]
  },
  {
   "cell_type": "code",
   "execution_count": 10,
   "id": "e190a2f1-7781-4f51-bfa6-b74d3e9211bb",
   "metadata": {},
   "outputs": [
    {
     "name": "stdout",
     "output_type": "stream",
     "text": [
      "Index(['EMPID', 'ENAME', 'SALARY', 'DOJ'], dtype='object')\n"
     ]
    }
   ],
   "source": [
    "df.columns = [i.upper() for i in df]\n",
    "print(df.columns)"
   ]
  },
  {
   "cell_type": "code",
   "execution_count": 11,
   "id": "3b948493-a939-45f5-995f-38b315400165",
   "metadata": {},
   "outputs": [
    {
     "name": "stdout",
     "output_type": "stream",
     "text": [
      "   EMPID  ENAME  SALARY   DOJ\n",
      "0   True   True    True  True\n",
      "1   True   True    True  True\n",
      "2   True   True   False  True\n",
      "3   True   True    True  True\n",
      "4   True   True    True  True\n",
      "5   True   True    True  True\n",
      "The no. of nulls in each column is \n",
      " EMPID     6\n",
      "ENAME     6\n",
      "SALARY    5\n",
      "DOJ       6\n",
      "dtype: int64\n"
     ]
    }
   ],
   "source": [
    "print(df.notnull())\n",
    "print('The no. of nulls in each column is \\n',df.notnull().sum())"
   ]
  },
  {
   "cell_type": "code",
   "execution_count": 12,
   "id": "1f1ca865-f1e8-495b-aeab-75055ddd7311",
   "metadata": {},
   "outputs": [
    {
     "name": "stdout",
     "output_type": "stream",
     "text": [
      "Highest Salary is 23000.5\n",
      "Lowest Salary is 1000.0\n"
     ]
    }
   ],
   "source": [
    "print('Highest Salary is',df['SALARY'].max())\n",
    "print('Lowest Salary is', df['SALARY'].min())"
   ]
  },
  {
   "cell_type": "code",
   "execution_count": 13,
   "id": "fa8066f9-3a0f-46d5-a49e-a9858b515409",
   "metadata": {},
   "outputs": [
    {
     "data": {
      "text/html": [
       "<div>\n",
       "<style scoped>\n",
       "    .dataframe tbody tr th:only-of-type {\n",
       "        vertical-align: middle;\n",
       "    }\n",
       "\n",
       "    .dataframe tbody tr th {\n",
       "        vertical-align: top;\n",
       "    }\n",
       "\n",
       "    .dataframe thead th {\n",
       "        text-align: right;\n",
       "    }\n",
       "</style>\n",
       "<table border=\"1\" class=\"dataframe\">\n",
       "  <thead>\n",
       "    <tr style=\"text-align: right;\">\n",
       "      <th></th>\n",
       "      <th>EMPID</th>\n",
       "      <th>ENAME</th>\n",
       "      <th>SALARY</th>\n",
       "      <th>DOJ</th>\n",
       "    </tr>\n",
       "  </thead>\n",
       "  <tbody>\n",
       "    <tr>\n",
       "      <th>1</th>\n",
       "      <td>1002</td>\n",
       "      <td>Anil</td>\n",
       "      <td>23000.5</td>\n",
       "      <td>2002-03-20</td>\n",
       "    </tr>\n",
       "  </tbody>\n",
       "</table>\n",
       "</div>"
      ],
      "text/plain": [
       "   EMPID ENAME   SALARY        DOJ\n",
       "1   1002  Anil  23000.5 2002-03-20"
      ]
     },
     "execution_count": 13,
     "metadata": {},
     "output_type": "execute_result"
    }
   ],
   "source": [
    "df[df.SALARY > 20000]"
   ]
  },
  {
   "cell_type": "code",
   "execution_count": 14,
   "id": "28cc6172-776a-4926-ace4-7d289421e874",
   "metadata": {},
   "outputs": [
    {
     "data": {
      "text/html": [
       "<div>\n",
       "<style scoped>\n",
       "    .dataframe tbody tr th:only-of-type {\n",
       "        vertical-align: middle;\n",
       "    }\n",
       "\n",
       "    .dataframe tbody tr th {\n",
       "        vertical-align: top;\n",
       "    }\n",
       "\n",
       "    .dataframe thead th {\n",
       "        text-align: right;\n",
       "    }\n",
       "</style>\n",
       "<table border=\"1\" class=\"dataframe\">\n",
       "  <thead>\n",
       "    <tr style=\"text-align: right;\">\n",
       "      <th></th>\n",
       "      <th>EMPID</th>\n",
       "      <th>ENAME</th>\n",
       "    </tr>\n",
       "  </thead>\n",
       "  <tbody>\n",
       "    <tr>\n",
       "      <th>1</th>\n",
       "      <td>1002</td>\n",
       "      <td>Anil</td>\n",
       "    </tr>\n",
       "  </tbody>\n",
       "</table>\n",
       "</div>"
      ],
      "text/plain": [
       "   EMPID ENAME\n",
       "1   1002  Anil"
      ]
     },
     "execution_count": 14,
     "metadata": {},
     "output_type": "execute_result"
    }
   ],
   "source": [
    "df[['EMPID','ENAME']] [df.SALARY == df.SALARY.max()]"
   ]
  },
  {
   "cell_type": "code",
   "execution_count": 16,
   "id": "7f0654c0-e530-4cb0-8fe1-fb25feda5b36",
   "metadata": {},
   "outputs": [
    {
     "name": "stdout",
     "output_type": "stream",
     "text": [
      "Dataset:\n",
      "    EMPID           ENAME    SALARY        DOJ\n",
      "0   1001          Ganesh   1000.00 2000-10-10\n",
      "1   1002            Anil  23000.50 2002-03-20\n",
      "2   1003          Gaurav       NaN 2002-03-03\n",
      "3   1004    Hema Chandra  16500.50 2000-09-10\n",
      "4   1005  Laxmi Prasanna  12000.75 2000-10-08\n",
      "5   1006          Anant    9999.99 1999-09-09\n"
     ]
    }
   ],
   "source": [
    "import numpy as np\n",
    "print(\"Dataset:\\n\", df)"
   ]
  },
  {
   "cell_type": "code",
   "execution_count": 20,
   "id": "2e635de6-f339-4526-98ae-d09931f32eb9",
   "metadata": {},
   "outputs": [
    {
     "name": "stdout",
     "output_type": "stream",
     "text": [
      "\n",
      "Average Salary: 12500.348\n",
      "Maximum Salary: 23000.5\n",
      "Minimum Salary: 1000.0\n"
     ]
    }
   ],
   "source": [
    "print(\"\\nAverage Salary:\", np.mean(df['SALARY']))\n",
    "print(\"Maximum Salary:\", np.max(df['SALARY']))\n",
    "print(\"Minimum Salary:\", np.min(df['SALARY']))"
   ]
  },
  {
   "cell_type": "code",
   "execution_count": null,
   "id": "19b3fa4c-0576-4451-b947-b4237aed248e",
   "metadata": {},
   "outputs": [],
   "source": []
  }
 ],
 "metadata": {
  "kernelspec": {
   "display_name": "Python 3 (ipykernel)",
   "language": "python",
   "name": "python3"
  },
  "language_info": {
   "codemirror_mode": {
    "name": "ipython",
    "version": 3
   },
   "file_extension": ".py",
   "mimetype": "text/x-python",
   "name": "python",
   "nbconvert_exporter": "python",
   "pygments_lexer": "ipython3",
   "version": "3.12.7"
  }
 },
 "nbformat": 4,
 "nbformat_minor": 5
}
